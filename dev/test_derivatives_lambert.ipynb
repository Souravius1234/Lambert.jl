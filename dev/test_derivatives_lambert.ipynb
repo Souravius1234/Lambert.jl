{
 "cells": [
  {
   "cell_type": "markdown",
   "id": "4f06793b",
   "metadata": {},
   "source": [
    "# Test for Lambert derivatives"
   ]
  },
  {
   "cell_type": "code",
   "execution_count": 1,
   "id": "44db5a75",
   "metadata": {},
   "outputs": [],
   "source": [
    "using LinearAlgebra"
   ]
  },
  {
   "cell_type": "code",
   "execution_count": 2,
   "id": "e356980f",
   "metadata": {},
   "outputs": [
    {
     "name": "stderr",
     "output_type": "stream",
     "text": [
      "┌ Info: Precompiling Lambert [9f1c8cd9-af6a-4e4f-8303-0fb026678c90]\n",
      "└ @ Base loading.jl:1342\n"
     ]
    }
   ],
   "source": [
    "push!(LOAD_PATH, \"../\")\n",
    "using Lambert\n",
    "#include(\"../src/Lambert.jl\")"
   ]
  },
  {
   "cell_type": "code",
   "execution_count": 3,
   "id": "621a114d",
   "metadata": {},
   "outputs": [
    {
     "data": {
      "text/plain": [
       "0"
      ]
     },
     "execution_count": 3,
     "metadata": {},
     "output_type": "execute_result"
    }
   ],
   "source": [
    "r1 = [1,0,0.03]\n",
    "r2 = [-0.1, 1.2, -0.01]\n",
    "tof = 2.1\n",
    "μ = 1.0\n",
    "cw = false\n",
    "m = 0"
   ]
  },
  {
   "cell_type": "code",
   "execution_count": 4,
   "id": "9eb26277",
   "metadata": {},
   "outputs": [
    {
     "data": {
      "text/plain": [
       "FastLambertOut(1.0, 2.1, [1.0, 0.0, 0.03], [-0.1, 1.2, -0.01], [0.16335994730379658, 1.0030036134084506, -0.0009500559924353992], [-0.8294626474387822, -0.0764843648191176, -0.02443772062838528], 1)"
      ]
     },
     "execution_count": 4,
     "metadata": {},
     "output_type": "execute_result"
    }
   ],
   "source": [
    "res = lambert_fast(\n",
    "    r1,\n",
    "    r2,\n",
    "    tof,\n",
    "    m,\n",
    "    μ,\n",
    "    cw,\n",
    ")"
   ]
  },
  {
   "cell_type": "code",
   "execution_count": 5,
   "id": "a82eecae",
   "metadata": {},
   "outputs": [
    {
     "data": {
      "text/plain": [
       "3-element Vector{Float64}:\n",
       "  0.16335994730379658\n",
       "  1.0030036134084506\n",
       " -0.0009500559924353992"
      ]
     },
     "execution_count": 5,
     "metadata": {},
     "output_type": "execute_result"
    }
   ],
   "source": [
    "res.v1"
   ]
  },
  {
   "cell_type": "code",
   "execution_count": 6,
   "id": "858c2615",
   "metadata": {},
   "outputs": [
    {
     "data": {
      "text/plain": [
       "3-element Vector{Float64}:\n",
       " -0.8294626474387822\n",
       " -0.0764843648191176\n",
       " -0.02443772062838528"
      ]
     },
     "execution_count": 6,
     "metadata": {},
     "output_type": "execute_result"
    }
   ],
   "source": [
    "res.v2"
   ]
  },
  {
   "cell_type": "code",
   "execution_count": 7,
   "id": "3834949d",
   "metadata": {},
   "outputs": [
    {
     "data": {
      "text/plain": [
       "1"
      ]
     },
     "execution_count": 7,
     "metadata": {},
     "output_type": "execute_result"
    }
   ],
   "source": [
    "res.exitflag"
   ]
  },
  {
   "cell_type": "code",
   "execution_count": 8,
   "id": "630ca8d1",
   "metadata": {},
   "outputs": [],
   "source": [
    "res, dv_dt, dv_dr = lambert_jacobians(\n",
    "    r1,\n",
    "    r2,\n",
    "    tof,\n",
    "    m,\n",
    "    μ,\n",
    "    cw,\n",
    ");"
   ]
  },
  {
   "cell_type": "code",
   "execution_count": 9,
   "id": "2acb480b",
   "metadata": {},
   "outputs": [
    {
     "data": {
      "text/plain": [
       "6×2 Matrix{Float64}:\n",
       " -0.39237      0.39237\n",
       "  0.196558    -0.196558\n",
       " -0.0129177    0.0129177\n",
       " -0.197807     0.197807\n",
       "  0.408105    -0.408105\n",
       " -0.00831483   0.00831483"
      ]
     },
     "execution_count": 9,
     "metadata": {},
     "output_type": "execute_result"
    }
   ],
   "source": [
    "dv_dt"
   ]
  },
  {
   "cell_type": "code",
   "execution_count": 10,
   "id": "c8703c49",
   "metadata": {},
   "outputs": [
    {
     "data": {
      "text/plain": [
       "6×6 Matrix{Float64}:\n",
       " -1.05229     -0.433112    -0.0364507    0.489866    -0.179471    -0.00933221\n",
       " -0.433112    -0.125439    -0.0108211   -0.277008     0.436111    -0.00597851\n",
       " -0.0364507   -0.0108211    0.245913    -0.00876324  -0.0030524    0.835591\n",
       " -0.489866     0.277008     0.00876324   0.146551     0.246621     0.00487003\n",
       "  0.179471    -0.436111     0.0030524    0.246621     0.974072     0.00134474\n",
       "  0.00933221   0.00597851  -0.835591     0.00487003   0.00134474  -0.0635987"
      ]
     },
     "execution_count": 10,
     "metadata": {},
     "output_type": "execute_result"
    }
   ],
   "source": [
    "dv_dr"
   ]
  },
  {
   "cell_type": "code",
   "execution_count": null,
   "id": "c3e45932",
   "metadata": {},
   "outputs": [],
   "source": []
  },
  {
   "cell_type": "code",
   "execution_count": null,
   "id": "bb5e5464",
   "metadata": {},
   "outputs": [],
   "source": []
  },
  {
   "cell_type": "code",
   "execution_count": null,
   "id": "9d0c4018",
   "metadata": {},
   "outputs": [],
   "source": []
  }
 ],
 "metadata": {
  "kernelspec": {
   "display_name": "Julia 1.6.3",
   "language": "julia",
   "name": "julia-1.6"
  },
  "language_info": {
   "file_extension": ".jl",
   "mimetype": "application/julia",
   "name": "julia",
   "version": "1.6.3"
  }
 },
 "nbformat": 4,
 "nbformat_minor": 5
}
